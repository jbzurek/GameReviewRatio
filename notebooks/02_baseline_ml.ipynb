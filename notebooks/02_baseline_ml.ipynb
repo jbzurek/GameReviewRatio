{
 "cells": [
  {
   "metadata": {
    "ExecuteTime": {
     "end_time": "2025-10-10T16:36:21.170164Z",
     "start_time": "2025-10-10T16:36:20.765780Z"
    }
   },
   "cell_type": "code",
   "source": [
    "import pandas as pd\n",
    "import numpy as np\n",
    "from sklearn.model_selection import train_test_split\n",
    "from sklearn.ensemble import RandomForestClassifier\n",
    "from sklearn.metrics import f1_score, roc_auc_score, accuracy_score, precision_score, recall_score\n",
    "\n",
    "#Przygotowanie danych\n",
    "filename = 'Cleaned_top_500.csv'\n",
    "path = f\"../data/02_interim/{filename}\"\n",
    "data = pd.read_csv(path)\n",
    "\n",
    "# >70% = dobra gra\n",
    "data['target_bin'] = (data['pct_pos_total'] > 70).astype(int)\n",
    "data = data.dropna(subset=['target_bin'])\n",
    "\n",
    "X = data.drop(columns=['pct_pos_total', 'target_bin'])\n",
    "y = data['target_bin']\n",
    "\n",
    "#tylko dane numeryczne\n",
    "X = X.select_dtypes(include=[np.number])\n",
    "\n",
    "#podział danych na treningowe i testowe\n",
    "X_train, X_test, y_train, y_test = train_test_split(\n",
    "    X, y, test_size=0.2, random_state=42, stratify=y\n",
    ")\n",
    "\n",
    "#Lista modeli\n",
    "models = {\n",
    "    \"RandomForest\": RandomForestClassifier(random_state=42)\n",
    "}\n",
    "\n",
    "#Ewaluacja\n",
    "results = []\n",
    "\n",
    "for name, model in models.items():\n",
    "    model.fit(X_train, y_train)\n",
    "\n",
    "    y_pred = model.predict(X_test)\n",
    "    y_proba = model.predict_proba(X_test)[:, 1]  # potrzebne do ROC-AUC\n",
    "\n",
    "    results.append({\n",
    "        \"Model\": name,\n",
    "        \"Accuracy\": accuracy_score(y_test, y_pred),\n",
    "        \"Precision\": precision_score(y_test, y_pred),\n",
    "        \"Recall\": recall_score(y_test, y_pred),\n",
    "        \"F1\": f1_score(y_test, y_pred),\n",
    "        \"ROC-AUC\": roc_auc_score(y_test, y_proba)\n",
    "    })\n",
    "\n",
    "#Tabela wyników\n",
    "results_df = pd.DataFrame(results).sort_values(by=\"F1\", ascending=False)\n",
    "print(results_df)"
   ],
   "id": "f9434f6dfa3fc431",
   "outputs": [
    {
     "name": "stdout",
     "output_type": "stream",
     "text": [
      "          Model  Accuracy  Precision    Recall        F1   ROC-AUC\n",
      "0  RandomForest      0.92   0.926316  0.988764  0.956522  0.853933\n"
     ]
    }
   ],
   "execution_count": 23
  }
 ],
 "metadata": {},
 "nbformat": 4,
 "nbformat_minor": 5
}
